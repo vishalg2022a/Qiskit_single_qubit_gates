{
 "cells": [
  {
   "cell_type": "code",
   "execution_count": 7,
   "id": "f44f60e0",
   "metadata": {},
   "outputs": [],
   "source": [
    "#!pip install qiskit qiskit-aer --upgrade\n",
    "#created virtual environment in VS code.\n"
   ]
  },
  {
   "cell_type": "code",
   "execution_count": null,
   "id": "eac7fa91",
   "metadata": {},
   "outputs": [
    {
     "name": "stdout",
     "output_type": "stream",
     "text": [
      "Quantum Circuit:\n",
      "        ┌───┐┌───┐┌───┐┌───┐┌─────────┐ ░ ┌─┐\n",
      "     q: ┤ X ├┤ H ├┤ S ├┤ T ├┤ Rz(0.5) ├─░─┤M├\n",
      "        └───┘└───┘└───┘└───┘└─────────┘ ░ └╥┘\n",
      "   c: 1/═══════════════════════════════════╬═\n",
      "                                           ║ \n",
      "meas: 1/═══════════════════════════════════╩═\n",
      "                                           0 \n",
      "\n",
      "Measurement Counts: {'1 0': 525, '0 0': 499}\n"
     ]
    }
   ],
   "source": [
    "from qiskit import QuantumCircuit, transpile\n",
    "from qiskit_aer import AerSimulator\n",
    "\n",
    "# Initialize simulator\n",
    "sim = AerSimulator()\n",
    "\n",
    "# Create a single-qubit circuit with one classical bit\n",
    "qc = QuantumCircuit(1, 1)\n",
    "\n",
    "# --- Apply sequence of single-qubit gates ---\n",
    "qc.x(0)        # Pauli-X (NOT gate)\n",
    "# qc.x(0)        # Pauli-X (NOT gate)\n",
    "\n",
    "qc.h(0)        # Hadamard (superposition)\n",
    "\n",
    "qc.s(0)        # Phase gate (π/2)\n",
    "qc.t(0)        # T gate (π/4)\n",
    "qc.rz(0.5, 0)  # Z-axis rotation by 0.5 radians\n",
    "\n",
    "# Measure final state\n",
    "qc.measure_all()\n",
    "\n",
    "# Display circuit\n",
    "print(\"Quantum Circuit:\")\n",
    "print(qc.draw())\n",
    "\n",
    "# --- Run simulation ---\n",
    "compiled = transpile(qc, sim)\n",
    "result = sim.run(compiled, shots=1024).result()\n",
    "\n",
    "# --- Display results ---\n",
    "counts = result.get_counts()\n",
    "print(\"\\nMeasurement Counts:\", counts)\n"
   ]
  },
  {
   "cell_type": "markdown",
   "id": "843f6884",
   "metadata": {},
   "source": [
    "### Task 1 Change Gate Order"
   ]
  },
  {
   "cell_type": "code",
   "execution_count": 3,
   "id": "e3d27dd5",
   "metadata": {},
   "outputs": [
    {
     "name": "stdout",
     "output_type": "stream",
     "text": [
      "Quantum Circuit:\n",
      "        ┌───┐┌───┐┌───┐┌───┐┌─────────┐ ░ ┌─┐\n",
      "     q: ┤ H ├┤ X ├┤ S ├┤ T ├┤ Rz(0.5) ├─░─┤M├\n",
      "        └───┘└───┘└───┘└───┘└─────────┘ ░ └╥┘\n",
      "   c: 1/═══════════════════════════════════╬═\n",
      "                                           ║ \n",
      "meas: 1/═══════════════════════════════════╩═\n",
      "                                           0 \n",
      "\n",
      "Measurement Counts: {'0 0': 500, '1 0': 524}\n"
     ]
    }
   ],
   "source": [
    "from qiskit import QuantumCircuit, transpile\n",
    "from qiskit_aer import AerSimulator\n",
    "\n",
    "# Initialize simulator\n",
    "sim = AerSimulator()\n",
    "\n",
    "# Create a single-qubit circuit with one classical bit\n",
    "qc = QuantumCircuit(1, 1)\n",
    "\n",
    "# --- Apply sequence of single-qubit gates ---\n",
    "qc.h(0)        # Hadamard (superposition)\n",
    "qc.x(0)        # Pauli-X (NOT gate)\n",
    "\n",
    "qc.s(0)        # Phase gate (π/2)\n",
    "qc.t(0)        # T gate (π/4)\n",
    "qc.rz(0.5, 0)  # Z-axis rotation by 0.5 radians\n",
    "\n",
    "# Measure final state\n",
    "qc.measure_all()\n",
    "\n",
    "# Display circuit\n",
    "print(\"Quantum Circuit:\")\n",
    "print(qc.draw())\n",
    "\n",
    "# --- Run simulation ---\n",
    "compiled = transpile(qc, sim)\n",
    "result = sim.run(compiled, shots=1024).result()\n",
    "\n",
    "# --- Display results ---\n",
    "counts = result.get_counts()\n",
    "print(\"\\nMeasurement Counts:\", counts)"
   ]
  },
  {
   "cell_type": "markdown",
   "id": "8bfcad1b",
   "metadata": {},
   "source": [
    "### Task 2 Vary Rotation Angle"
   ]
  },
  {
   "cell_type": "code",
   "execution_count": 4,
   "id": "48cc1cd2",
   "metadata": {},
   "outputs": [
    {
     "name": "stdout",
     "output_type": "stream",
     "text": [
      "\n",
      "Running simulation with Rz(0.79)\n",
      "Measurement Counts: {'1 0': 545, '0 0': 479}\n",
      "\n",
      "Running simulation with Rz(1.57)\n",
      "Measurement Counts: {'1 0': 512, '0 0': 512}\n",
      "\n",
      "Running simulation with Rz(3.14)\n",
      "Measurement Counts: {'1 0': 505, '0 0': 519}\n"
     ]
    }
   ],
   "source": [
    "import numpy as np\n",
    "from qiskit import QuantumCircuit, transpile\n",
    "from qiskit_aer import AerSimulator\n",
    "\n",
    "# Initialize simulator\n",
    "sim = AerSimulator()\n",
    "\n",
    "# Define the angles to test\n",
    "angles = [np.pi/4, np.pi/2, np.pi]\n",
    "\n",
    "for angle in angles:\n",
    "    print(f\"\\nRunning simulation with Rz({angle:.2f})\")\n",
    "    # Create a single-qubit circuit with one classical bit\n",
    "    qc = QuantumCircuit(1, 1)\n",
    "\n",
    "    # --- Apply sequence of single-qubit gates ---\n",
    "    qc.h(0)        # Hadamard (superposition)\n",
    "    qc.x(0)        # Pauli-X (NOT gate)\n",
    "    qc.s(0)        # Phase gate (π/2)\n",
    "    qc.t(0)        # T gate (π/4)\n",
    "    qc.rz(angle, 0)  # Z-axis rotation by the current angle\n",
    "\n",
    "    # Measure final state\n",
    "    qc.measure_all()\n",
    "\n",
    "    # Display circuit (optional, can be removed for brevity)\n",
    "    # print(\"Quantum Circuit:\")\n",
    "    # print(qc.draw())\n",
    "\n",
    "    # --- Run simulation ---\n",
    "    compiled = transpile(qc, sim)\n",
    "    result = sim.run(compiled, shots=1024).result()\n",
    "\n",
    "    # --- Display results ---\n",
    "    counts = result.get_counts()\n",
    "    print(\"Measurement Counts:\", counts)"
   ]
  },
  {
   "cell_type": "markdown",
   "id": "a3777bee",
   "metadata": {},
   "source": [
    "### Task 3 Remove a Gate"
   ]
  },
  {
   "cell_type": "code",
   "execution_count": 5,
   "id": "d3e33c79",
   "metadata": {},
   "outputs": [
    {
     "name": "stdout",
     "output_type": "stream",
     "text": [
      "Quantum Circuit:\n",
      "        ┌───┐┌───┐┌───┐┌─────────┐ ░ ┌─┐\n",
      "     q: ┤ X ├┤ S ├┤ T ├┤ Rz(0.5) ├─░─┤M├\n",
      "        └───┘└───┘└───┘└─────────┘ ░ └╥┘\n",
      "   c: 1/══════════════════════════════╬═\n",
      "                                      ║ \n",
      "meas: 1/══════════════════════════════╩═\n",
      "                                      0 \n",
      "\n",
      "Measurement Counts: {'1 0': 1024}\n"
     ]
    }
   ],
   "source": [
    "from qiskit import QuantumCircuit, transpile\n",
    "from qiskit_aer import AerSimulator\n",
    "\n",
    "# Initialize simulator\n",
    "sim = AerSimulator()\n",
    "\n",
    "# Create a single-qubit circuit with one classical bit\n",
    "qc = QuantumCircuit(1, 1)\n",
    "\n",
    "# --- Apply sequence of single-qubit gates ---\n",
    "# qc.h(0)        # Hadamard (superposition) - Removed\n",
    "qc.x(0)        # Pauli-X (NOT gate)\n",
    "\n",
    "qc.s(0)        # Phase gate (π/2)\n",
    "qc.t(0)        # T gate (π/4)\n",
    "qc.rz(0.5, 0)  # Z-axis rotation by 0.5 radians\n",
    "\n",
    "# Measure final state\n",
    "qc.measure_all()\n",
    "\n",
    "# Display circuit\n",
    "print(\"Quantum Circuit:\")\n",
    "print(qc.draw())\n",
    "\n",
    "# --- Run simulation ---\n",
    "compiled = transpile(qc, sim)\n",
    "result = sim.run(compiled, shots=1024).result()\n",
    "\n",
    "# --- Display results ---\n",
    "counts = result.get_counts()\n",
    "print(\"\\nMeasurement Counts:\", counts)"
   ]
  }
 ],
 "metadata": {
  "kernelspec": {
   "display_name": "VA",
   "language": "python",
   "name": "python3"
  },
  "language_info": {
   "codemirror_mode": {
    "name": "ipython",
    "version": 3
   },
   "file_extension": ".py",
   "mimetype": "text/x-python",
   "name": "python",
   "nbconvert_exporter": "python",
   "pygments_lexer": "ipython3",
   "version": "3.11.6"
  }
 },
 "nbformat": 4,
 "nbformat_minor": 5
}
